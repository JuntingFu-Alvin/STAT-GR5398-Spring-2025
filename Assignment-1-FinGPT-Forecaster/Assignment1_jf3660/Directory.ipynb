{
  "nbformat": 4,
  "nbformat_minor": 0,
  "metadata": {
    "colab": {
      "provenance": []
    },
    "kernelspec": {
      "name": "python3",
      "display_name": "Python 3"
    },
    "language_info": {
      "name": "python"
    }
  },
  "cells": [
    {
      "cell_type": "code",
      "execution_count": null,
      "metadata": {
        "id": "fpaIHyLXFOFz"
      },
      "outputs": [],
      "source": [
        "FinGPT_Forecaster/\n",
        "├── FinGPT_Forecaster.ipynb\n",
        "├── Llama_3.1_8B.ipynb\n",
        "├── LoRA_Fine_Tuning_on_Both_Models.ipynb\n",
        "├── README.md\n",
        "├── config.json\n",
        "├── deepseek.ipynb\n",
        "├── requirements.txt\n",
        "├── train.sh\n",
        "└── utils.ipynb"
      ]
    }
  ]
}