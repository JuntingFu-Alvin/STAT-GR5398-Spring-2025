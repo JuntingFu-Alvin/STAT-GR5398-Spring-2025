{
 "cells": [
  {
   "cell_type": "markdown",
   "metadata": {
    "id": "wijtxOY3F6cj"
   },
   "source": [
    "# FinGPT-Forecaster Project\n",
    "\n",
    "This repository contains code and notebooks for the STAT-GR5398-Spring-2025 Assignment 1: Practical Application of FinGPT-Forecaster. The project involves using and fine-tuning Large Language Models (LLMs) like Llama-3.1-8B and DeepSeek-R1-Distill-Llama-8B to predict stock price movements using the Dow 30 dataset.\n",
    "\n",
    "## Overview\n",
    "The FinGPT-Forecaster is a state-of-the-art financial LLM designed to synthesize market insights and predict stock price movements. This project provides hands-on experience in running LLMs, comparing different model architectures, and analyzing their outputs in the context of financial forecasting.\n",
    "\n",
    "## Files\n",
    "- `FinGPT_Forecaster.ipynb`: Main notebook containing the complete pipeline for setup, data preprocessing, fine-tuning, testing, and metrics calculation.\n",
    "- `Llama_3.1_8B.ipynb`: Notebook focused on loading, fine-tuning, and testing the Llama-3.1-8B model.\n",
    "- `LoRA_Fine_Tuning_on_Both_Models.ipynb`: Notebook for LoRA fine-tuning of both Llama-3.1-8B and DeepSeek models.\n",
    "- `deepseek.ipynb`: Notebook focused on loading, fine-tuning, and testing the DeepSeek-R1-Distill-Llama-8B model.\n",
    "- `utils.ipynb`: Utility functions for data preprocessing, testing, and metrics calculation.\n",
    "- `config.json`: Configuration file for model and training settings.\n",
    "- `requirements.txt`: List of Python dependencies required to run the project.\n",
    "- `train.sh`: Shell script for training the models (optional, for advanced users).\n",
    "\n",
    "## Setup\n",
    "1. Clone this repository:\n",
    "   ```bash\n",
    "   git clone <your-repo-url>\n",
    "   cd FinGPT_Forecaster"
   ]
  }
 ],
 "metadata": {
  "colab": {
   "provenance": []
  },
  "kernelspec": {
   "display_name": "Python 3 (ipykernel)",
   "language": "python",
   "name": "python3"
  },
  "language_info": {
   "codemirror_mode": {
    "name": "ipython",
    "version": 3
   },
   "file_extension": ".py",
   "mimetype": "text/x-python",
   "name": "python",
   "nbconvert_exporter": "python",
   "pygments_lexer": "ipython3",
   "version": "3.12.4"
  }
 },
 "nbformat": 4,
 "nbformat_minor": 4
}
